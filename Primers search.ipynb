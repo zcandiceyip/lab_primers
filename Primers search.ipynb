{
 "cells": [
  {
   "cell_type": "markdown",
   "metadata": {
    "deletable": true,
    "editable": true
   },
   "source": [
    "# NOTES FOR USER:\n",
    "## Input file:\n",
    "- Future primer spreadsheets should follow Claire's spreadsheet, using **Excel**. \n",
    "- Naming convention for your primer spreadsheet should always be an **Excel** spreadsheet named **'Firstname Lastname.xls' **or** '.xlsx'**.\n",
    "\n",
    "## Output file:\n",
    "- Output file of primer matches (sequence_matches.xlsx') is in the parent folder (the folder above the one that contains all the sequences).\n",
    "- If you put more than one sequence to analyze, the primer matches for each sequence will be separated into different sheets within the excel file, in order of how you put it in.\n",
    "\n",
    "Best wishes,\n",
    "Candice\n",
    "\n",
    "- - - "
   ]
  },
  {
   "cell_type": "code",
   "execution_count": 1,
   "metadata": {
    "collapsed": true,
    "deletable": true,
    "editable": true
   },
   "outputs": [],
   "source": [
    "import pandas as pd\n",
    "import os\n",
    "%matplotlib inline"
   ]
  },
  {
   "cell_type": "code",
   "execution_count": 2,
   "metadata": {
    "code_folding": [
     0,
     8
    ],
    "collapsed": true,
    "deletable": true,
    "editable": true
   },
   "outputs": [],
   "source": [
    "def split_col(row):\n",
    "    try:\n",
    "        row_col = row.Row[1:]\n",
    "    except TypeError:\n",
    "        row_col = 'NaN'\n",
    "    else:\n",
    "        return row_col\n",
    "    \n",
    "def split_row(row):\n",
    "    try:\n",
    "        row_Row = row.Row[0]\n",
    "    except TypeError:\n",
    "        row_Row = 'NaN'\n",
    "    else:\n",
    "        return row_Row"
   ]
  },
  {
   "cell_type": "code",
   "execution_count": 3,
   "metadata": {
    "code_folding": [],
    "collapsed": false,
    "deletable": true,
    "editable": true
   },
   "outputs": [],
   "source": [
    "# dictionary to reverse transcribe sequences\n",
    "rev_xcr = {'a':'t', 'c':'g', 'g':'c', 't':'a'}\n",
    "\n",
    "# read in files from lab members\n",
    "\n",
    "# Candice\n",
    "df = pd.read_csv('Candice Yip.csv')\n",
    "df.columns = ['Date', 'Box', 'Row', 'Col', 'Name', 'Sequence', 'Misc', 'Other']\n",
    "df['LabMember'] = 'Candice Yip'\n",
    "df.Date = df.Date.fillna(method='ffill')\n",
    "\n",
    "# Standard promoters from Eton\n",
    "temp_std = pd.read_excel('StandardPrimers.xlsx')\n",
    "temp_std['LabMember'] = 'Eton Primer'\n",
    "temp_std['Box'] = 'NaN'\n",
    "temp_std['Row'] = 'NaN'\n",
    "temp_std['Col'] = 'NaN'\n",
    "temp_std['Misc'] = 'NaN'\n",
    "temp_std['Other'] = 'NaN'\n",
    "temp_std['Date'] = 'NaN'\n",
    "temp_std = temp_std[['Date', 'Box', 'Row', 'Col', 'Name', 'Sequence', 'Misc', 'Other', 'LabMember']]\n",
    "\n",
    "# Elizabeth\n",
    "temp_elizabeth = pd.read_excel('Elizabeth Lamkin.xlsx')\n",
    "temp_elizabeth.columns = ['Name', 'Sequence', 'Box', 'Row', 'Col', 'Misc', 'Other']\n",
    "temp_elizabeth['LabMember'] = 'Elizabeth Lamkin'\n",
    "temp_elizabeth['Date'] = 'NaN'\n",
    "temp_elizabeth = temp_elizabeth[['Date', 'Box', 'Row', 'Col', 'Name', 'Sequence', 'Misc', 'Other', 'LabMember']]\n",
    "\n",
    "# Karolina\n",
    "temp_Kar = pd.read_excel('Karolina Mizeracka.xlsx', sheetname = 'KM primers')\n",
    "temp_Kar['Other'] = temp_Kar['Unnamed: 9']\n",
    "temp_Kar.columns = ['Box', 'Row', 'Name', 'Sequence', 'Date', 'Misc', 'U6', 'U7', 'U8', 'U9', 'U10', 'Other']\n",
    "temp_Kar['LabMember'] = 'Karolina Mizeracka'\n",
    "temp_Kar['Col'] = temp_Kar.apply(split_col, axis=1)\n",
    "temp_Kar.Row = temp_Kar.apply(split_row, axis=1)\n",
    "temp_Kar = temp_Kar[['Date', 'Box', 'Row', 'Col', 'Name', 'Sequence', 'Misc', 'Other', 'LabMember']]\n",
    "\n",
    "# Max\n",
    "temp_Max = pd.read_excel('Max Heiman.xls')\n",
    "temp_Max.columns = ['OldBox', 'Box', 'Name', 'Sequence', 'Row', 'Col', 'Date', 'Misc']\n",
    "temp_Max['LabMember'] = 'Max Heiman'\n",
    "temp_Max['Other'] = 'NaN'\n",
    "temp_Max = temp_Max[['Date', 'Box', 'Row', 'Col', 'Name', 'Sequence', 'Misc', 'Other', 'LabMember']]"
   ]
  },
  {
   "cell_type": "code",
   "execution_count": 4,
   "metadata": {
    "collapsed": false,
    "deletable": true,
    "editable": true
   },
   "outputs": [],
   "source": [
    "df = df.append(temp_std, ignore_index=True)\n",
    "df = df.append(temp_elizabeth, ignore_index=True)\n",
    "df = df.append(temp_Max, ignore_index=True)\n",
    "df = df.append(temp_Kar, ignore_index=True)"
   ]
  },
  {
   "cell_type": "code",
   "execution_count": 5,
   "metadata": {
    "code_folding": [],
    "collapsed": false,
    "deletable": true,
    "editable": true
   },
   "outputs": [],
   "source": [
    "for file in os.listdir():\n",
    "    if file not in ['.DS_Store', '.ipynb_checkpoints', 'Candice Yip.csv', 'Elizabeth Lamkin.xlsx', 'Karolina Mizeracka.xlsx', 'Max Heiman.xls','Primers search.ipynb', 'StandardPrimers.xlsx', 'Primers+search.py']:\n",
    "        try:\n",
    "            temp = pd.read_excel(file)\n",
    "            try:\n",
    "                temp.columns = ['Name', 'Sequence', 'Date', 'Box', 'Row', 'Misc']\n",
    "                temp['Other'] = 'NaN'\n",
    "            except ValueError:\n",
    "                temp.columns = [['Name', 'Sequence', 'Date', 'Box', 'Row', 'Misc', 'Other']]\n",
    "\n",
    "            temp['LabMember'] = file.split('.')[0]\n",
    "            temp['Col'] = temp.apply(split_col, axis=1)\n",
    "            temp.Row = temp.apply(split_row, axis=1)        \n",
    "            temp = temp[['Date', 'Box', 'Row', 'Col', 'Name', 'Sequence', 'Misc', 'Other', 'LabMember']]\n",
    "            df = df.append(temp, ignore_index=True)\n",
    "        except:\n",
    "            print ('Could not read', file)\n",
    "            pass\n"
   ]
  },
  {
   "cell_type": "code",
   "execution_count": 6,
   "metadata": {
    "collapsed": false,
    "deletable": true,
    "editable": true
   },
   "outputs": [],
   "source": [
    "# print ('Number of primers by lab member: ')\n",
    "# print (df.groupby('LabMember').Name.count())"
   ]
  },
  {
   "cell_type": "markdown",
   "metadata": {
    "deletable": true,
    "editable": true
   },
   "source": [
    "# Clean sequence input from user"
   ]
  },
  {
   "cell_type": "markdown",
   "metadata": {
    "deletable": true,
    "editable": true
   },
   "source": [
    "Clean up input sequence from user."
   ]
  },
  {
   "cell_type": "code",
   "execution_count": 7,
   "metadata": {
    "code_folding": [
     15
    ],
    "collapsed": false,
    "deletable": true,
    "editable": true
   },
   "outputs": [
    {
     "name": "stdout",
     "output_type": "stream",
     "text": [
      "Paste your sequence to find primers. Uppercase or lowercase, spaces, and line breaks allowed.\n",
      "You can input more than one sequence, just separate sequences with a semicolon: \n"
     ]
    }
   ],
   "source": [
    "print ('Paste your sequence to find primers. Uppercase or lowercase, spaces, and line breaks allowed.')\n",
    "sequence = input('You can input more than one sequence, just separate sequences with a semicolon: ')\n",
    "\n",
    "# split if multiple sequences\n",
    "sequence_list = sequence.split(sep=';')\n",
    "\n",
    "# clean up sequence(s)\n",
    "temp_list = []\n",
    "for sequence in sequence_list:\n",
    "    sequence = sequence.lower().replace(\" \", \"\").strip(' \\t\\n\\r')\n",
    "    for base in sequence:\n",
    "        if base not in ['a', 'g', 'c', 't']:\n",
    "            print ('Error. Your sequence contains letters other than base pairs (a, g, c, t)')\n",
    "            break\n",
    "    temp_list.append(sequence)\n",
    "\n",
    "sequence_list = temp_list"
   ]
  },
  {
   "cell_type": "markdown",
   "metadata": {
    "deletable": true,
    "editable": true
   },
   "source": [
    "# Clean primers dataframe"
   ]
  },
  {
   "cell_type": "markdown",
   "metadata": {
    "deletable": true,
    "editable": true
   },
   "source": [
    "Clean primer sequences."
   ]
  },
  {
   "cell_type": "code",
   "execution_count": 8,
   "metadata": {
    "code_folding": [],
    "collapsed": false,
    "deletable": true,
    "editable": true
   },
   "outputs": [],
   "source": [
    "def clean_primer(primer):\n",
    "    try:\n",
    "        primer = primer.lower().replace(\" \", \"\").strip()\n",
    "        for base in primer:\n",
    "            if base not in ['a', 'g', 'c', 't']:\n",
    "                print ('Warning: One or more of your primers had stuff that were not dna bases. I replaced them with null values.')\n",
    "                primer = 'NaN'\n",
    "                break\n",
    "    except AttributeError:\n",
    "        primer = 'NaN'\n",
    "    return primer\n",
    "    \n",
    "df.Sequence = df['Sequence'].apply(clean_primer)"
   ]
  },
  {
   "cell_type": "markdown",
   "metadata": {
    "deletable": true,
    "editable": true
   },
   "source": [
    "Clean box and column floats."
   ]
  },
  {
   "cell_type": "code",
   "execution_count": 9,
   "metadata": {
    "code_folding": [],
    "collapsed": false,
    "deletable": true,
    "editable": true
   },
   "outputs": [],
   "source": [
    "def integerize_locations(box):\n",
    "    try:\n",
    "        if type(box) == str and box.startswith('IL-OL'):\n",
    "            box = box[-1]\n",
    "        elif type(box) == str and box.startswith('CW-OL'):\n",
    "            box = box[-1]\n",
    "        return str(int(box))\n",
    "    except ValueError:\n",
    "        return 'NaN'\n",
    "    except TypeError:\n",
    "        return 'NaN'"
   ]
  },
  {
   "cell_type": "code",
   "execution_count": 10,
   "metadata": {
    "collapsed": false,
    "deletable": true,
    "editable": true
   },
   "outputs": [],
   "source": [
    "df['Box'] = df['Box'].apply(integerize_locations)\n",
    "df['Col'] = df['Col'].apply(integerize_locations)"
   ]
  },
  {
   "cell_type": "markdown",
   "metadata": {
    "deletable": true,
    "editable": true
   },
   "source": [
    "Get forward and reverse primer segments (15 nucleotides from 3' end), which we will use to match input sequence."
   ]
  },
  {
   "cell_type": "code",
   "execution_count": 11,
   "metadata": {
    "code_folding": [
     0,
     6
    ],
    "collapsed": false,
    "deletable": true,
    "editable": true
   },
   "outputs": [],
   "source": [
    "def forward_15(primer):\n",
    "    try:\n",
    "        primer_15 = primer[-15:]\n",
    "    except:\n",
    "        primer_15 = 'NaN'\n",
    "    return primer_15\n",
    "def reverse_15(primer):\n",
    "    try:\n",
    "        primer_rev = \"\"    \n",
    "\n",
    "        # reverse transcribe\n",
    "        for i in primer:\n",
    "            primer_rev += rev_xcr[i]\n",
    "        \n",
    "        # flip order\n",
    "        primer_rev = primer_rev[::-1]\n",
    "        \n",
    "        # grab first 15 nucleotides\n",
    "        primer_rev_15 = primer_rev[:15]\n",
    "        \n",
    "    except:\n",
    "        primer_rev_15 = 'NaN'\n",
    "    return primer_rev_15\n",
    "\n",
    "df['Forward_15'] = df['Sequence'].apply(forward_15)\n",
    "df['Reverse_15'] = df['Sequence'].apply(reverse_15)"
   ]
  },
  {
   "cell_type": "markdown",
   "metadata": {
    "deletable": true,
    "editable": true
   },
   "source": [
    "Locate forward and reverse primers in sequence."
   ]
  },
  {
   "cell_type": "code",
   "execution_count": 12,
   "metadata": {
    "code_folding": [],
    "collapsed": false,
    "deletable": true,
    "editable": true
   },
   "outputs": [],
   "source": [
    "def locateFprimer(row):\n",
    "    locate_box = {}\n",
    "\n",
    "    try:\n",
    "        if type(row.Forward_15) == str and sequence.find(row.Forward_15) >= 0:\n",
    "            locate_box[sequence.find(row.Forward_15)] = [row.Name,\n",
    "                                                         'Fwd',\n",
    "                                                         row.Box + row.Row + row.Col,\n",
    "                                                         str(sequence.find(row.Sequence) != -1),\n",
    "                                                         row.Sequence,\n",
    "                                                         len(row.Sequence),\n",
    "                                                         row.LabMember,\n",
    "                                                         'Notes: '+ str(row.Misc) + '. Misc: ' + str(row.Other),\n",
    "                                                         row.Date\n",
    "                                                        ]\n",
    "    except:\n",
    "        pass\n",
    "    \n",
    "    if len(locate_box.keys()) > 0:\n",
    "        return (locate_box)\n",
    "\n",
    "    \n",
    "    \n",
    "def locateRprimer(row):\n",
    "    locate_box = {}\n",
    "    \n",
    "    \n",
    "    try:\n",
    "        rev_seq = \"\"\n",
    "        for base in row.Sequence:\n",
    "            rev_seq += rev_xcr[base]\n",
    "        rev_seq = rev_seq[::-1]\n",
    "    except:\n",
    "        pass\n",
    "    \n",
    "    try:\n",
    "        if type(row.Reverse_15) == str and sequence.find(row.Reverse_15) >= 0:\n",
    "            locate_box[sequence.find(row.Reverse_15)] = [row.Name, \n",
    "                                                         'Rev', \n",
    "                                                         row.Box + row.Row + row.Col,\n",
    "                                                         str(sequence.find(rev_seq) != -1),\n",
    "                                                         row.Sequence,\n",
    "                                                         len(row.Sequence),\n",
    "                                                         row.LabMember,\n",
    "                                                         'Notes: '+ str(row.Misc) + '. Misc: ' + str(row.Other),\n",
    "                                                         row.Date\n",
    "                                                        ]\n",
    "    except:\n",
    "        pass\n",
    "    \n",
    "    if len(locate_box.keys()) > 0:\n",
    "        return (locate_box)"
   ]
  },
  {
   "cell_type": "markdown",
   "metadata": {
    "deletable": true,
    "editable": true
   },
   "source": [
    "Get locations and information for matching primers in each sequence."
   ]
  },
  {
   "cell_type": "code",
   "execution_count": 13,
   "metadata": {
    "code_folding": [],
    "collapsed": false,
    "deletable": true,
    "editable": true
   },
   "outputs": [
    {
     "name": "stdout",
     "output_type": "stream",
     "text": [
      "For sequence ... there are 0 matching forward primers and 0 matching reverse primers.\n",
      "\n"
     ]
    }
   ],
   "source": [
    "all_matches = []\n",
    "for sequence in sequence_list:\n",
    "    df['fwd_match'] = df.apply(locateFprimer, axis=1)\n",
    "    df['rev_match'] = df.apply(locateRprimer, axis=1)\n",
    "\n",
    "    print (\"For sequence\", sequence[:7] + '...' + sequence[-7:], \"there are\", df.fwd_match.count(), \"matching forward primers\", 'and', df.rev_match.count(), 'matching reverse primers.')\n",
    "    print ()\n",
    "    matches_per_seq_F = df.fwd_match.dropna()\n",
    "    matches_per_seq_R = df.rev_match.dropna()\n",
    "    all_matches.append([matches_per_seq_F, matches_per_seq_R])"
   ]
  },
  {
   "cell_type": "code",
   "execution_count": 14,
   "metadata": {
    "code_folding": [
     20,
     33
    ],
    "collapsed": false,
    "deletable": true,
    "editable": true,
    "scrolled": false
   },
   "outputs": [
    {
     "ename": "IndexError",
     "evalue": "index 0 is out of bounds for axis 0 with size 0",
     "output_type": "error",
     "traceback": [
      "\u001b[0;31m---------------------------------------------------------------------------\u001b[0m",
      "\u001b[0;31mIndexError\u001b[0m                                Traceback (most recent call last)",
      "\u001b[0;32m<ipython-input-14-ff13404810dc>\u001b[0m in \u001b[0;36m<module>\u001b[0;34m()\u001b[0m\n\u001b[1;32m     33\u001b[0m \u001b[0msheet_names\u001b[0m \u001b[0;34m=\u001b[0m \u001b[0mlist\u001b[0m\u001b[0;34m(\u001b[0m\u001b[0mrange\u001b[0m\u001b[0;34m(\u001b[0m\u001b[0mlen\u001b[0m\u001b[0;34m(\u001b[0m\u001b[0msplit_dfs\u001b[0m\u001b[0;34m)\u001b[0m\u001b[0;34m)\u001b[0m\u001b[0;34m)\u001b[0m\u001b[0;34m\u001b[0m\u001b[0m\n\u001b[1;32m     34\u001b[0m \u001b[0;32mfor\u001b[0m \u001b[0mname\u001b[0m \u001b[0;32min\u001b[0m \u001b[0msheet_names\u001b[0m\u001b[0;34m:\u001b[0m\u001b[0;34m\u001b[0m\u001b[0m\n\u001b[0;32m---> 35\u001b[0;31m     \u001b[0msplit_dfs\u001b[0m\u001b[0;34m[\u001b[0m\u001b[0mname\u001b[0m\u001b[0;34m]\u001b[0m\u001b[0;34m.\u001b[0m\u001b[0mto_excel\u001b[0m\u001b[0;34m(\u001b[0m\u001b[0mwriter\u001b[0m\u001b[0;34m,\u001b[0m \u001b[0msheet_name\u001b[0m \u001b[0;34m=\u001b[0m \u001b[0mstr\u001b[0m\u001b[0;34m(\u001b[0m\u001b[0mname\u001b[0m\u001b[0;34m)\u001b[0m\u001b[0;34m)\u001b[0m\u001b[0;34m\u001b[0m\u001b[0m\n\u001b[0m\u001b[1;32m     36\u001b[0m \u001b[0mwriter\u001b[0m\u001b[0;34m.\u001b[0m\u001b[0msave\u001b[0m\u001b[0;34m(\u001b[0m\u001b[0;34m)\u001b[0m\u001b[0;34m\u001b[0m\u001b[0m\n",
      "\u001b[0;32m//anaconda/lib/python3.5/site-packages/pandas/core/frame.py\u001b[0m in \u001b[0;36mto_excel\u001b[0;34m(self, excel_writer, sheet_name, na_rep, float_format, columns, header, index, index_label, startrow, startcol, engine, merge_cells, encoding, inf_rep, verbose)\u001b[0m\n\u001b[1;32m   1462\u001b[0m         \u001b[0mformatted_cells\u001b[0m \u001b[0;34m=\u001b[0m \u001b[0mformatter\u001b[0m\u001b[0;34m.\u001b[0m\u001b[0mget_formatted_cells\u001b[0m\u001b[0;34m(\u001b[0m\u001b[0;34m)\u001b[0m\u001b[0;34m\u001b[0m\u001b[0m\n\u001b[1;32m   1463\u001b[0m         excel_writer.write_cells(formatted_cells, sheet_name,\n\u001b[0;32m-> 1464\u001b[0;31m                                  startrow=startrow, startcol=startcol)\n\u001b[0m\u001b[1;32m   1465\u001b[0m         \u001b[0;32mif\u001b[0m \u001b[0mneed_save\u001b[0m\u001b[0;34m:\u001b[0m\u001b[0;34m\u001b[0m\u001b[0m\n\u001b[1;32m   1466\u001b[0m             \u001b[0mexcel_writer\u001b[0m\u001b[0;34m.\u001b[0m\u001b[0msave\u001b[0m\u001b[0;34m(\u001b[0m\u001b[0;34m)\u001b[0m\u001b[0;34m\u001b[0m\u001b[0m\n",
      "\u001b[0;32m//anaconda/lib/python3.5/site-packages/pandas/io/excel.py\u001b[0m in \u001b[0;36mwrite_cells\u001b[0;34m(self, cells, sheet_name, startrow, startcol)\u001b[0m\n\u001b[1;32m   1515\u001b[0m         \u001b[0mstyle_dict\u001b[0m \u001b[0;34m=\u001b[0m \u001b[0;34m{\u001b[0m\u001b[0;34m}\u001b[0m\u001b[0;34m\u001b[0m\u001b[0m\n\u001b[1;32m   1516\u001b[0m \u001b[0;34m\u001b[0m\u001b[0m\n\u001b[0;32m-> 1517\u001b[0;31m         \u001b[0;32mfor\u001b[0m \u001b[0mcell\u001b[0m \u001b[0;32min\u001b[0m \u001b[0mcells\u001b[0m\u001b[0;34m:\u001b[0m\u001b[0;34m\u001b[0m\u001b[0m\n\u001b[0m\u001b[1;32m   1518\u001b[0m             \u001b[0mval\u001b[0m \u001b[0;34m=\u001b[0m \u001b[0m_conv_value\u001b[0m\u001b[0;34m(\u001b[0m\u001b[0mcell\u001b[0m\u001b[0;34m.\u001b[0m\u001b[0mval\u001b[0m\u001b[0;34m)\u001b[0m\u001b[0;34m\u001b[0m\u001b[0m\n\u001b[1;32m   1519\u001b[0m \u001b[0;34m\u001b[0m\u001b[0m\n",
      "\u001b[0;32m//anaconda/lib/python3.5/site-packages/pandas/formats/format.py\u001b[0m in \u001b[0;36mget_formatted_cells\u001b[0;34m(self)\u001b[0m\n\u001b[1;32m   1891\u001b[0m     \u001b[0;32mdef\u001b[0m \u001b[0mget_formatted_cells\u001b[0m\u001b[0;34m(\u001b[0m\u001b[0mself\u001b[0m\u001b[0;34m)\u001b[0m\u001b[0;34m:\u001b[0m\u001b[0;34m\u001b[0m\u001b[0m\n\u001b[1;32m   1892\u001b[0m         for cell in itertools.chain(self._format_header(),\n\u001b[0;32m-> 1893\u001b[0;31m                                     self._format_body()):\n\u001b[0m\u001b[1;32m   1894\u001b[0m             \u001b[0mcell\u001b[0m\u001b[0;34m.\u001b[0m\u001b[0mval\u001b[0m \u001b[0;34m=\u001b[0m \u001b[0mself\u001b[0m\u001b[0;34m.\u001b[0m\u001b[0m_format_value\u001b[0m\u001b[0;34m(\u001b[0m\u001b[0mcell\u001b[0m\u001b[0;34m.\u001b[0m\u001b[0mval\u001b[0m\u001b[0;34m)\u001b[0m\u001b[0;34m\u001b[0m\u001b[0m\n\u001b[1;32m   1895\u001b[0m             \u001b[0;32myield\u001b[0m \u001b[0mcell\u001b[0m\u001b[0;34m\u001b[0m\u001b[0m\n",
      "\u001b[0;32m//anaconda/lib/python3.5/site-packages/pandas/formats/format.py\u001b[0m in \u001b[0;36m_format_header_regular\u001b[0;34m(self)\u001b[0m\n\u001b[1;32m   1741\u001b[0m                 \u001b[0mcoloffset\u001b[0m \u001b[0;34m=\u001b[0m \u001b[0;36m1\u001b[0m\u001b[0;34m\u001b[0m\u001b[0m\n\u001b[1;32m   1742\u001b[0m                 \u001b[0;32mif\u001b[0m \u001b[0misinstance\u001b[0m\u001b[0;34m(\u001b[0m\u001b[0mself\u001b[0m\u001b[0;34m.\u001b[0m\u001b[0mdf\u001b[0m\u001b[0;34m.\u001b[0m\u001b[0mindex\u001b[0m\u001b[0;34m,\u001b[0m \u001b[0mMultiIndex\u001b[0m\u001b[0;34m)\u001b[0m\u001b[0;34m:\u001b[0m\u001b[0;34m\u001b[0m\u001b[0m\n\u001b[0;32m-> 1743\u001b[0;31m                     \u001b[0mcoloffset\u001b[0m \u001b[0;34m=\u001b[0m \u001b[0mlen\u001b[0m\u001b[0;34m(\u001b[0m\u001b[0mself\u001b[0m\u001b[0;34m.\u001b[0m\u001b[0mdf\u001b[0m\u001b[0;34m.\u001b[0m\u001b[0mindex\u001b[0m\u001b[0;34m[\u001b[0m\u001b[0;36m0\u001b[0m\u001b[0;34m]\u001b[0m\u001b[0;34m)\u001b[0m\u001b[0;34m\u001b[0m\u001b[0m\n\u001b[0m\u001b[1;32m   1744\u001b[0m \u001b[0;34m\u001b[0m\u001b[0m\n\u001b[1;32m   1745\u001b[0m             \u001b[0mcolnames\u001b[0m \u001b[0;34m=\u001b[0m \u001b[0mself\u001b[0m\u001b[0;34m.\u001b[0m\u001b[0mcolumns\u001b[0m\u001b[0;34m\u001b[0m\u001b[0m\n",
      "\u001b[0;32m//anaconda/lib/python3.5/site-packages/pandas/indexes/multi.py\u001b[0m in \u001b[0;36m__getitem__\u001b[0;34m(self, key)\u001b[0m\n\u001b[1;32m   1077\u001b[0m             \u001b[0mretval\u001b[0m \u001b[0;34m=\u001b[0m \u001b[0;34m[\u001b[0m\u001b[0;34m]\u001b[0m\u001b[0;34m\u001b[0m\u001b[0m\n\u001b[1;32m   1078\u001b[0m             \u001b[0;32mfor\u001b[0m \u001b[0mlev\u001b[0m\u001b[0;34m,\u001b[0m \u001b[0mlab\u001b[0m \u001b[0;32min\u001b[0m \u001b[0mzip\u001b[0m\u001b[0;34m(\u001b[0m\u001b[0mself\u001b[0m\u001b[0;34m.\u001b[0m\u001b[0mlevels\u001b[0m\u001b[0;34m,\u001b[0m \u001b[0mself\u001b[0m\u001b[0;34m.\u001b[0m\u001b[0mlabels\u001b[0m\u001b[0;34m)\u001b[0m\u001b[0;34m:\u001b[0m\u001b[0;34m\u001b[0m\u001b[0m\n\u001b[0;32m-> 1079\u001b[0;31m                 \u001b[0;32mif\u001b[0m \u001b[0mlab\u001b[0m\u001b[0;34m[\u001b[0m\u001b[0mkey\u001b[0m\u001b[0;34m]\u001b[0m \u001b[0;34m==\u001b[0m \u001b[0;34m-\u001b[0m\u001b[0;36m1\u001b[0m\u001b[0;34m:\u001b[0m\u001b[0;34m\u001b[0m\u001b[0m\n\u001b[0m\u001b[1;32m   1080\u001b[0m                     \u001b[0mretval\u001b[0m\u001b[0;34m.\u001b[0m\u001b[0mappend\u001b[0m\u001b[0;34m(\u001b[0m\u001b[0mnp\u001b[0m\u001b[0;34m.\u001b[0m\u001b[0mnan\u001b[0m\u001b[0;34m)\u001b[0m\u001b[0;34m\u001b[0m\u001b[0m\n\u001b[1;32m   1081\u001b[0m                 \u001b[0;32melse\u001b[0m\u001b[0;34m:\u001b[0m\u001b[0;34m\u001b[0m\u001b[0m\n",
      "\u001b[0;31mIndexError\u001b[0m: index 0 is out of bounds for axis 0 with size 0"
     ]
    }
   ],
   "source": [
    "def matches(match):\n",
    "    match_dict = {}\n",
    "    for i in match:\n",
    "        if list(i.keys())[0] not in match_dict.keys():\n",
    "            match_dict[list(i.keys())[0]] = [list(i.values())[0]]\n",
    "        else:\n",
    "            match_dict[list(i.keys())[0]].append(list(i.values())[0])\n",
    "    return match_dict\n",
    "\n",
    "def split_dict(match):\n",
    "    fwd_dict = matches(match)\n",
    "    fwd_dict_df = pd.DataFrame(pd.DataFrame.from_dict(fwd_dict, orient='index'))\n",
    "    fwd_dict_df.sort_index(inplace=True)\n",
    "    split_fwd_dict = pd.DataFrame(fwd_dict_df.stack(), columns=['all_info'])\n",
    "    split_fwd_df = pd.DataFrame([x for x in split_fwd_dict.all_info], columns = ['Name', 'Dir', 'Location', 'Entire primer?', 'Primer', 'Primer length','LabMember','Notes', 'Date'])\n",
    "    split_fwd_df.index = split_fwd_dict.index\n",
    "    return split_fwd_df\n",
    "\n",
    "split_dfs = []\n",
    "\n",
    "for n in range(len(all_matches)):\n",
    "    fwd_matches = all_matches[n][0].tolist()\n",
    "    rev_matches = all_matches[n][1].tolist()\n",
    "    \n",
    "    split_fwd_df = split_dict(fwd_matches)\n",
    "    split_rev_df = split_dict(rev_matches)\n",
    "\n",
    "    split_df = split_fwd_df.append(split_rev_df)\n",
    "    split_dfs.append(split_df)\n",
    "\n",
    "# write data to Excel\n",
    "writer = pd.ExcelWriter('../sequence_matches.xlsx')\n",
    "sheet_names = list(range(len(split_dfs)))\n",
    "for name in sheet_names:\n",
    "    split_dfs[name].to_excel(writer, sheet_name = str(name))\n",
    "writer.save()"
   ]
  },
  {
   "cell_type": "markdown",
   "metadata": {
    "deletable": true,
    "editable": true
   },
   "source": [
    "How does number of primers ordered change with number of years in the lab?"
   ]
  },
  {
   "cell_type": "code",
   "execution_count": null,
   "metadata": {
    "collapsed": false,
    "deletable": true,
    "editable": true
   },
   "outputs": [],
   "source": [
    "from matplotlib import pyplot\n",
    "from scipy import stats\n",
    "x = [5.5, 2, 3.5, 2, 4.5, 9, 1.5]\n",
    "y = [390, 171, 351, 116, 385, 712, 98]\n",
    "import pylab\n",
    "\n",
    "a = pylab.polyval(pylab.polyfit(x,y, 1), x)\n",
    "lab_primers = pyplot.scatter(x, y, alpha = 0.5)\n",
    "pyplot.plot(x,a, marker = '', color='r', alpha = 0.5)\n",
    "pylab.xlabel('Years in lab')\n",
    "pylab.ylabel('Number of primers')\n",
    "\n",
    "\n",
    "slope, intercept, r_value, p_value, std_err = stats.linregress(x,y)\n",
    "print (\"r-squared:\", r_value**2)"
   ]
  },
  {
   "cell_type": "code",
   "execution_count": null,
   "metadata": {
    "collapsed": false,
    "deletable": true,
    "editable": true
   },
   "outputs": [],
   "source": [
    "import seaborn as sns\n",
    "sorted_df = df.loc[:, ['Date', 'LabMember', 'Sequence']].dropna()\n",
    "\n",
    "cand = sorted_df[sorted_df.LabMember == 'Candice Yip'].groupby('Date').Sequence.count()\n",
    "# sns.swarmplot(cand)\n",
    "cand.plot()"
   ]
  },
  {
   "cell_type": "code",
   "execution_count": null,
   "metadata": {
    "collapsed": false,
    "deletable": true,
    "editable": true
   },
   "outputs": [],
   "source": [
    "kar = sorted_df[sorted_df.LabMember == 'Karolina Mizeracka'].groupby('Date').Sequence.count()\n",
    "# sns.swarmplot(kar)\n",
    "kar.plot()"
   ]
  },
  {
   "cell_type": "code",
   "execution_count": null,
   "metadata": {
    "collapsed": false,
    "deletable": true,
    "editable": true
   },
   "outputs": [],
   "source": [
    "max_h = sorted_df[sorted_df.LabMember == 'Max Heiman'].groupby('Date').Sequence.count()\n",
    "# sns.swarmplot(max_h)\n",
    "max_h.plot()"
   ]
  },
  {
   "cell_type": "code",
   "execution_count": 18,
   "metadata": {
    "collapsed": false,
    "deletable": true,
    "editable": true
   },
   "outputs": [
    {
     "data": {
      "text/html": [
       "<div>\n",
       "<table border=\"1\" class=\"dataframe\">\n",
       "  <thead>\n",
       "    <tr style=\"text-align: right;\">\n",
       "      <th></th>\n",
       "      <th>Date</th>\n",
       "      <th>Box</th>\n",
       "      <th>Row</th>\n",
       "      <th>Col</th>\n",
       "      <th>Name</th>\n",
       "      <th>Sequence</th>\n",
       "      <th>Misc</th>\n",
       "      <th>Other</th>\n",
       "      <th>LabMember</th>\n",
       "      <th>Forward_15</th>\n",
       "      <th>Reverse_15</th>\n",
       "      <th>fwd_match</th>\n",
       "      <th>rev_match</th>\n",
       "    </tr>\n",
       "  </thead>\n",
       "  <tbody>\n",
       "    <tr>\n",
       "      <th>1340</th>\n",
       "      <td>2008-06-27 00:00:00</td>\n",
       "      <td>7</td>\n",
       "      <td>D</td>\n",
       "      <td>7</td>\n",
       "      <td>dex1-6263r</td>\n",
       "      <td>gcctggtcttcaattccgttttgcatagg</td>\n",
       "      <td>dex-1, sequencing, reverse</td>\n",
       "      <td>NaN</td>\n",
       "      <td>Max Heiman</td>\n",
       "      <td>tccgttttgcatagg</td>\n",
       "      <td>cctatgcaaaacgga</td>\n",
       "      <td>None</td>\n",
       "      <td>None</td>\n",
       "    </tr>\n",
       "  </tbody>\n",
       "</table>\n",
       "</div>"
      ],
      "text/plain": [
       "                     Date Box Row Col        Name  \\\n",
       "1340  2008-06-27 00:00:00   7   D   7  dex1-6263r   \n",
       "\n",
       "                           Sequence                        Misc Other  \\\n",
       "1340  gcctggtcttcaattccgttttgcatagg  dex-1, sequencing, reverse   NaN   \n",
       "\n",
       "       LabMember       Forward_15       Reverse_15 fwd_match rev_match  \n",
       "1340  Max Heiman  tccgttttgcatagg  cctatgcaaaacgga      None      None  "
      ]
     },
     "execution_count": 18,
     "metadata": {},
     "output_type": "execute_result"
    }
   ],
   "source": [
    "df[df.Name == 'dex1-6263r']"
   ]
  },
  {
   "cell_type": "code",
   "execution_count": null,
   "metadata": {
    "collapsed": true
   },
   "outputs": [],
   "source": []
  }
 ],
 "metadata": {
  "anaconda-cloud": {},
  "kernelspec": {
   "display_name": "Python [Root]",
   "language": "python",
   "name": "Python [Root]"
  },
  "language_info": {
   "codemirror_mode": {
    "name": "ipython",
    "version": 3
   },
   "file_extension": ".py",
   "mimetype": "text/x-python",
   "name": "python",
   "nbconvert_exporter": "python",
   "pygments_lexer": "ipython3",
   "version": "3.5.2"
  }
 },
 "nbformat": 4,
 "nbformat_minor": 0
}
