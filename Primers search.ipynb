{
 "cells": [
  {
   "cell_type": "markdown",
   "metadata": {
    "deletable": true,
    "editable": true
   },
   "source": [
    "# NOTES FOR USER:\n",
    "## Input file:\n",
    "- Future primer spreadsheets should follow Claire's spreadsheet, using **Excel**. \n",
    "- Naming convention for your primer spreadsheet should always be an **Excel** spreadsheet named **'Firstname Lastname.xls' **or** '.xlsx'**.\n",
    "\n",
    "## Output file:\n",
    "- Output file of primer matches (sequence_matches.xlsx') is in the parent folder (the folder above the one that contains all the sequences).\n",
    "- If you put more than one sequence to analyze, the primer matches for each sequence will be separated into different sheets within the excel file, in order of how you put it in.\n",
    "\n",
    "Best wishes,\n",
    "Candice\n",
    "\n",
    "- - - "
   ]
  },
  {
   "cell_type": "code",
   "execution_count": 1,
   "metadata": {
    "collapsed": true,
    "deletable": true,
    "editable": true
   },
   "outputs": [],
   "source": [
    "import pandas as pd\n",
    "import os\n",
    "%matplotlib inline"
   ]
  },
  {
   "cell_type": "code",
   "execution_count": 2,
   "metadata": {
    "code_folding": [
     0,
     8
    ],
    "collapsed": true,
    "deletable": true,
    "editable": true
   },
   "outputs": [],
   "source": [
    "def split_col(row):\n",
    "    try:\n",
    "        row_col = row.Row[1:]\n",
    "    except TypeError:\n",
    "        row_col = 'NaN'\n",
    "    else:\n",
    "        return row_col\n",
    "    \n",
    "def split_row(row):\n",
    "    try:\n",
    "        row_Row = row.Row[0]\n",
    "    except TypeError:\n",
    "        row_Row = 'NaN'\n",
    "    else:\n",
    "        return row_Row"
   ]
  },
  {
   "cell_type": "code",
   "execution_count": 3,
   "metadata": {
    "code_folding": [
     0
    ],
    "collapsed": false,
    "deletable": true,
    "editable": true
   },
   "outputs": [],
   "source": [
    "# read in files from lab members\n",
    "def get_files_into_df(files):\n",
    "    \"\"\"\n",
    "    input: files, list of filenames\n",
    "    returns: dataframe\n",
    "    \"\"\"\n",
    "    \n",
    "    for i in files:\n",
    "        if i == 'Candice Yip.csv':\n",
    "            # Candice\n",
    "            df = pd.read_csv('Candice Yip.csv')\n",
    "            df.columns = ['Date', 'Box', 'Row', 'Col', 'Name', 'Sequence', 'Misc', 'Other']\n",
    "            df['LabMember'] = 'Candice Yip'\n",
    "            df.Date = df.Date.fillna(method='ffill')\n",
    "        \n",
    "        elif i == 'StandardPrimers.xlsx':\n",
    "            # Standard promoters from Eton\n",
    "            temp_std = pd.read_excel('StandardPrimers.xlsx')\n",
    "            temp_std['LabMember'] = 'Eton Primer'\n",
    "            temp_std['Box'] = 'NaN'\n",
    "            temp_std['Row'] = 'NaN'\n",
    "            temp_std['Col'] = 'NaN'\n",
    "            temp_std['Misc'] = 'NaN'\n",
    "            temp_std['Other'] = 'NaN'\n",
    "            temp_std['Date'] = 'NaN'\n",
    "            temp_std = temp_std[['Date', 'Box', 'Row', 'Col', 'Name', 'Sequence', 'Misc', 'Other', 'LabMember']]\n",
    "\n",
    "        elif i == 'Elizabeth Lamkin.xlsx':\n",
    "            # Elizabeth\n",
    "            temp_elizabeth = pd.read_excel('Elizabeth Lamkin.xlsx')\n",
    "            temp_elizabeth.columns = ['Name', 'Sequence', 'Box', 'Row', 'Col', 'Misc', 'Other']\n",
    "            temp_elizabeth['LabMember'] = 'Elizabeth Lamkin'\n",
    "            temp_elizabeth['Date'] = 'NaN'\n",
    "            temp_elizabeth = temp_elizabeth[['Date', 'Box', 'Row', 'Col', 'Name', 'Sequence', 'Misc', 'Other', 'LabMember']]\n",
    "\n",
    "        elif i == 'Karolina Mizeracka.xlsx':\n",
    "            # Karolina\n",
    "            temp_Kar = pd.read_excel('Karolina Mizeracka.xlsx', sheetname = 'KM primers')\n",
    "            temp_Kar['Other'] = temp_Kar['Unnamed: 9']\n",
    "            temp_Kar.columns = ['Box', 'Row', 'Name', 'Sequence', 'Date', 'Misc', 'U6', 'U7', 'U8', 'U9', 'U10', 'Other']\n",
    "            temp_Kar['LabMember'] = 'Karolina Mizeracka'\n",
    "            temp_Kar['Col'] = temp_Kar.apply(split_col, axis=1)\n",
    "            temp_Kar.Row = temp_Kar.apply(split_row, axis=1)\n",
    "            temp_Kar = temp_Kar[['Date', 'Box', 'Row', 'Col', 'Name', 'Sequence', 'Misc', 'Other', 'LabMember']]\n",
    "\n",
    "        elif i == 'Max Heiman.xls':\n",
    "            # Max\n",
    "            temp_Max = pd.read_excel('Max Heiman.xls')\n",
    "            temp_Max.columns = ['OldBox', 'Box', 'Name', 'Sequence', 'Row', 'Col', 'Date', 'Misc']\n",
    "            temp_Max['LabMember'] = 'Max Heiman'\n",
    "            temp_Max['Other'] = 'NaN'\n",
    "            temp_Max = temp_Max[['Date', 'Box', 'Row', 'Col', 'Name', 'Sequence', 'Misc', 'Other', 'LabMember']]\n",
    "            \n",
    "    df = df.append(temp_std, ignore_index=True)\n",
    "    df = df.append(temp_elizabeth, ignore_index=True)\n",
    "    df = df.append(temp_Max, ignore_index=True)\n",
    "    df = df.append(temp_Kar, ignore_index=True)\n",
    "    \n",
    "    for file in os.listdir():\n",
    "        if file not in ['.DS_Store', '.ipynb_checkpoints', 'Candice Yip.csv', 'Elizabeth Lamkin.xlsx', 'Karolina Mizeracka.xlsx', 'Max Heiman.xls','Primers search.ipynb', 'StandardPrimers.xlsx', 'Primers+search.py']:\n",
    "            try:\n",
    "                temp = pd.read_excel(file)\n",
    "                try:\n",
    "                    temp.columns = ['Name', 'Sequence', 'Date', 'Box', 'Row', 'Misc']\n",
    "                    temp['Other'] = 'NaN'\n",
    "                except ValueError:\n",
    "                    temp.columns = [['Name', 'Sequence', 'Date', 'Box', 'Row', 'Misc', 'Other']]\n",
    "\n",
    "                temp['LabMember'] = file.split('.')[0]\n",
    "                temp['Col'] = temp.apply(split_col, axis=1)\n",
    "                temp.Row = temp.apply(split_row, axis=1)        \n",
    "                temp = temp[['Date', 'Box', 'Row', 'Col', 'Name', 'Sequence', 'Misc', 'Other', 'LabMember']]\n",
    "                df = df.append(temp, ignore_index=True)\n",
    "            except:\n",
    "                print ('Could not read', file)\n",
    "                pass\n",
    "\n",
    "    return df "
   ]
  },
  {
   "cell_type": "code",
   "execution_count": 4,
   "metadata": {
    "collapsed": false,
    "deletable": true,
    "editable": true
   },
   "outputs": [],
   "source": [
    "df = get_files_into_df(['Candice Yip.csv', 'StandardPrimers.xlsx', 'Elizabeth Lamkin.xlsx',\n",
    "                       'Karolina Mizeracka.xlsx', 'Max Heiman.xls'])"
   ]
  },
  {
   "cell_type": "code",
   "execution_count": 5,
   "metadata": {
    "collapsed": false,
    "deletable": true,
    "editable": true
   },
   "outputs": [
    {
     "name": "stdout",
     "output_type": "stream",
     "text": [
      "Number of primers by lab member: \n",
      "LabMember\n",
      "Candice Yip           390\n",
      "Claire Williams       171\n",
      "Elizabeth Lamkin      351\n",
      "Eton Primer            23\n",
      "Isabel Low            116\n",
      "Karolina Mizeracka    385\n",
      "Max Heiman            712\n",
      "Megan Chong            98\n",
      "Name: Name, dtype: int64\n"
     ]
    }
   ],
   "source": [
    "print ('Number of primers by lab member: ')\n",
    "print (df.groupby('LabMember').Name.count())"
   ]
  },
  {
   "cell_type": "markdown",
   "metadata": {
    "deletable": true,
    "editable": true
   },
   "source": [
    "# Clean sequence input from user"
   ]
  },
  {
   "cell_type": "markdown",
   "metadata": {
    "deletable": true,
    "editable": true
   },
   "source": [
    "Clean up input sequence from user."
   ]
  },
  {
   "cell_type": "code",
   "execution_count": 6,
   "metadata": {
    "code_folding": [
     3
    ],
    "collapsed": false,
    "deletable": true,
    "editable": true
   },
   "outputs": [
    {
     "name": "stdout",
     "output_type": "stream",
     "text": [
      "Paste your sequence to find primers. Uppercase or lowercase, spaces, and line breaks allowed.\n",
      "You can input more than one sequence, just separate sequences with a semicolon: ATTCGCCATTCAGGCTGCGCAACTGTTGGGAAGGGCGATCGGTGCGGGCCTCTTCGCTATTACGCCAGCTGGCGAAAGGGGGATGTGCTGCAAGGCGATTAAGTTGGGTAACGCCAGGGTTTTCCCAGTCACGACGTTGTAAAACGACGGCCAGTGAATTCACTAGTGCGATCATTGACGGGCTCCAAAGCCGAATCAGAAACTGACAGTATGGCACAATACGGAGACACAGATCCAGGAGTCTTCACTGAAGATGGATCATTTATTGgtaagtttcatataaaattaagagcttattacgaacctcaaaagCTGTTTCAGGTCAATACGTTCCACAAAAGAGCTTGATGCCGGCCGAACGGCCCGAGAAAGGATCAACGTCGACGTTTGTCTAGgctgtctcatcctactttcacctagttaactgcttgtcttaaaatctatgcttctctttagtatctaaaattttcctagaagcttacaagtatataaatggtctcttctcaataaaggttgtatatttattcatcttattgaatctgccatttcctcgtttttgcgagtttatataccttccaattttctttctattgtattttcaacttctaattttaattcagggaaactgctATgtctgattccgctgttgttgccgccgctgtcgagccaaaggtcccaaaggctaaggccgccaaggccgccaagccaaccaaagttgccaaggccaaggctccagtcgctcacccaccatacatcaacatgatcaaggaggccatcaagcagctcaaggaccgcaaaggagcttccaagcaggcaatcctcaagttcatctcccaaaactacaagctcggagacaatgtcatccagatcaatgctcatctccgtcaggctctcaagcgtggtgtcaccagcaaggcccttgttcaagccgccggatccggagccaacggacgtttccgtgtgccagagaaggccgccgccgccaagaagccagcagcagccaagaagccagcagcagccaagaaaccagcagccgccaagaaagccactggagagaagaaggcaaagaagccagccgctgccaagccaaagaaggccgccaccggagataagaaggtcaagaaggccaagagcccaaagaagg\n"
     ]
    }
   ],
   "source": [
    "print ('Paste your sequence to find primers. Uppercase or lowercase, spaces, and line breaks allowed.')\n",
    "sequence = input('You can input more than one sequence, just separate sequences with a semicolon: ')\n",
    "\n",
    "def clean_sequence(sequence):\n",
    "    \"\"\"\n",
    "    input: sequence, a string of dna bases potentially separated by semicolon\n",
    "    \"\"\"\n",
    "    # split if multiple sequences\n",
    "    sequence_list = sequence.split(sep=';')\n",
    "\n",
    "    # clean up sequence(s)\n",
    "    temp_list = []\n",
    "    for sequence in sequence_list:\n",
    "        sequence = sequence.lower().replace(\" \", \"\").strip(' \\t\\n\\r')\n",
    "        for base in sequence:\n",
    "            if base not in ['a', 'g', 'c', 't']:\n",
    "                print ('Error. Your sequence contains letters other than base pairs (a, g, c, t)')\n",
    "                break\n",
    "        temp_list.append(sequence)\n",
    "\n",
    "    sequence_list = temp_list\n",
    "    return sequence_list\n"
   ]
  },
  {
   "cell_type": "markdown",
   "metadata": {
    "deletable": true,
    "editable": true
   },
   "source": [
    "# Clean primers dataframe"
   ]
  },
  {
   "cell_type": "markdown",
   "metadata": {
    "deletable": true,
    "editable": true
   },
   "source": [
    "Clean primer sequences."
   ]
  },
  {
   "cell_type": "code",
   "execution_count": 7,
   "metadata": {
    "code_folding": [
     0
    ],
    "collapsed": false,
    "deletable": true,
    "editable": true
   },
   "outputs": [],
   "source": [
    "def clean_primer(primer):\n",
    "    try:\n",
    "        primer = primer.lower().replace(\" \", \"\").strip()\n",
    "        for base in primer:\n",
    "            if base not in ['a', 'g', 'c', 't']:\n",
    "                print ('Warning: One or more of your primers had stuff that were not dna bases. I replaced them with null values.')\n",
    "                primer = 'NaN'\n",
    "                break\n",
    "    except AttributeError:\n",
    "        primer = 'NaN'\n",
    "    return primer\n",
    "    \n",
    "df.Sequence = df['Sequence'].apply(clean_primer)"
   ]
  },
  {
   "cell_type": "markdown",
   "metadata": {
    "deletable": true,
    "editable": true
   },
   "source": [
    "Clean box and column floats."
   ]
  },
  {
   "cell_type": "code",
   "execution_count": 8,
   "metadata": {
    "code_folding": [
     0
    ],
    "collapsed": false,
    "deletable": true,
    "editable": true
   },
   "outputs": [],
   "source": [
    "def integerize_locations(box):\n",
    "    try:\n",
    "        if type(box) == str and box.startswith('IL-OL'):\n",
    "            box = box[-1]\n",
    "        elif type(box) == str and box.startswith('CW-OL'):\n",
    "            box = box[-1]\n",
    "        return str(int(box))\n",
    "    except ValueError:\n",
    "        return 'NaN'\n",
    "    except TypeError:\n",
    "        return 'NaN'"
   ]
  },
  {
   "cell_type": "code",
   "execution_count": 9,
   "metadata": {
    "collapsed": false,
    "deletable": true,
    "editable": true
   },
   "outputs": [],
   "source": [
    "df['Box'] = df['Box'].apply(integerize_locations)\n",
    "df['Col'] = df['Col'].apply(integerize_locations)"
   ]
  },
  {
   "cell_type": "markdown",
   "metadata": {
    "deletable": true,
    "editable": true
   },
   "source": [
    "Get forward and reverse primer segments (15 nucleotides from 3' end), which we will use to match input sequence."
   ]
  },
  {
   "cell_type": "code",
   "execution_count": 10,
   "metadata": {
    "code_folding": [
     0,
     6
    ],
    "collapsed": false,
    "deletable": true,
    "editable": true
   },
   "outputs": [],
   "source": [
    "def forward_15(primer):\n",
    "    try:\n",
    "        primer_15 = primer[-15:]\n",
    "    except:\n",
    "        primer_15 = 'NaN'\n",
    "    return primer_15\n",
    "def reverse_15(primer):\n",
    "    try:\n",
    "        primer_rev = \"\"    \n",
    "\n",
    "        # reverse transcribe\n",
    "        for i in primer:\n",
    "            primer_rev += rev_xcr[i]\n",
    "        \n",
    "        # flip order\n",
    "        primer_rev = primer_rev[::-1]\n",
    "        \n",
    "        # grab first 15 nucleotides\n",
    "        primer_rev_15 = primer_rev[:15]\n",
    "        \n",
    "    except:\n",
    "        primer_rev_15 = 'NaN'\n",
    "    return primer_rev_15\n",
    "\n",
    "df['Forward_15'] = df['Sequence'].apply(forward_15)\n",
    "df['Reverse_15'] = df['Sequence'].apply(reverse_15)"
   ]
  },
  {
   "cell_type": "markdown",
   "metadata": {
    "deletable": true,
    "editable": true
   },
   "source": [
    "Locate forward and reverse primers in sequence."
   ]
  },
  {
   "cell_type": "code",
   "execution_count": 11,
   "metadata": {
    "code_folding": [
     0,
     23
    ],
    "collapsed": false,
    "deletable": true,
    "editable": true
   },
   "outputs": [],
   "source": [
    "def locateFprimer(row):\n",
    "    locate_box = {}\n",
    "\n",
    "    try:\n",
    "        if type(row.Forward_15) == str and sequence.find(row.Forward_15) >= 0:\n",
    "            locate_box[sequence.find(row.Forward_15)] = [row.Name,\n",
    "                                                         'Fwd',\n",
    "                                                         row.Box + row.Row + row.Col,\n",
    "                                                         str(sequence.find(row.Sequence) != -1),\n",
    "                                                         row.Sequence,\n",
    "                                                         len(row.Sequence),\n",
    "                                                         row.LabMember,\n",
    "                                                         'Notes: '+ str(row.Misc) + '. Misc: ' + str(row.Other),\n",
    "                                                         row.Date\n",
    "                                                        ]\n",
    "    except:\n",
    "        pass\n",
    "    \n",
    "    if len(locate_box.keys()) > 0:\n",
    "        return (locate_box)\n",
    "\n",
    "    \n",
    "    \n",
    "def locateRprimer(row):\n",
    "    locate_box = {}\n",
    "    \n",
    "    \n",
    "    try:\n",
    "        rev_seq = \"\"\n",
    "        for base in row.Sequence:\n",
    "            rev_seq += rev_xcr[base]\n",
    "        rev_seq = rev_seq[::-1]\n",
    "    except:\n",
    "        pass\n",
    "    \n",
    "    try:\n",
    "        if type(row.Reverse_15) == str and sequence.find(row.Reverse_15) >= 0:\n",
    "            locate_box[sequence.find(row.Reverse_15)] = [row.Name, \n",
    "                                                         'Rev', \n",
    "                                                         row.Box + row.Row + row.Col,\n",
    "                                                         str(sequence.find(rev_seq) != -1),\n",
    "                                                         row.Sequence,\n",
    "                                                         len(row.Sequence),\n",
    "                                                         row.LabMember,\n",
    "                                                         'Notes: '+ str(row.Misc) + '. Misc: ' + str(row.Other),\n",
    "                                                         row.Date\n",
    "                                                        ]\n",
    "    except:\n",
    "        pass\n",
    "    \n",
    "    if len(locate_box.keys()) > 0:\n",
    "        return (locate_box)"
   ]
  },
  {
   "cell_type": "markdown",
   "metadata": {
    "deletable": true,
    "editable": true
   },
   "source": [
    "# Get locations and information for matching primers in each sequence."
   ]
  },
  {
   "cell_type": "code",
   "execution_count": 12,
   "metadata": {
    "code_folding": [
     0
    ],
    "collapsed": false,
    "deletable": true,
    "editable": true
   },
   "outputs": [],
   "source": [
    "def match(sequence_list):\n",
    "    all_matches = []\n",
    "    for sequence in sequence_list:\n",
    "        df['fwd_match'] = df.apply(locateFprimer, axis=1)\n",
    "        df['rev_match'] = df.apply(locateRprimer, axis=1)\n",
    "\n",
    "        print (\"For sequence\", sequence[:7] + '...' + sequence[-7:], \"there are\", df.fwd_match.count(), \"matching forward primers\", 'and', df.rev_match.count(), 'matching reverse primers.')\n",
    "        print ()\n",
    "        matches_per_seq_F = df.fwd_match.dropna()\n",
    "        matches_per_seq_R = df.rev_match.dropna()\n",
    "        all_matches.append([matches_per_seq_F, matches_per_seq_R])\n",
    "    return all_matches"
   ]
  },
  {
   "cell_type": "code",
   "execution_count": 13,
   "metadata": {
    "code_folding": [
     0,
     9,
     18,
     32
    ],
    "collapsed": false,
    "deletable": true,
    "editable": true,
    "scrolled": false
   },
   "outputs": [],
   "source": [
    "def matches(match):\n",
    "    match_dict = {}\n",
    "    for i in match:\n",
    "        if list(i.keys())[0] not in match_dict.keys():\n",
    "            match_dict[list(i.keys())[0]] = [list(i.values())[0]]\n",
    "        else:\n",
    "            match_dict[list(i.keys())[0]].append(list(i.values())[0])\n",
    "    return match_dict\n",
    "\n",
    "def split_dict(match):\n",
    "    fwd_dict = matches(match)\n",
    "    fwd_dict_df = pd.DataFrame(pd.DataFrame.from_dict(fwd_dict, orient='index'))\n",
    "    fwd_dict_df.sort_index(inplace=True)\n",
    "    split_fwd_dict = pd.DataFrame(fwd_dict_df.stack(), columns=['all_info'])\n",
    "    split_fwd_df = pd.DataFrame([x for x in split_fwd_dict.all_info], columns = ['Name', 'Dir', 'Location', 'Entire primer?', 'Primer', 'Primer length','LabMember','Notes', 'Date'])\n",
    "    split_fwd_df.index = split_fwd_dict.index\n",
    "    return split_fwd_df\n",
    "\n",
    "def split_dataframes(all_matches):\n",
    "    split_dfs = []\n",
    "\n",
    "    for n in range(len(all_matches)):\n",
    "        fwd_matches = all_matches[n][0].tolist()\n",
    "        rev_matches = all_matches[n][1].tolist()\n",
    "\n",
    "        split_fwd_df = split_dict(fwd_matches)\n",
    "        split_rev_df = split_dict(rev_matches)\n",
    "\n",
    "        split_df = split_fwd_df.append(split_rev_df)\n",
    "        split_dfs.append(split_df)\n",
    "    return split_dfs\n",
    "\n",
    "def write_Excel(split_dfs):\n",
    "    # write data to Excel\n",
    "    writer = pd.ExcelWriter('../sequence_matches.xlsx')\n",
    "    sheet_names = list(range(len(split_dfs)))\n",
    "    for name in sheet_names:\n",
    "        split_dfs[name].to_excel(writer, sheet_name = str(name))\n",
    "    writer.save()\n"
   ]
  },
  {
   "cell_type": "code",
   "execution_count": 14,
   "metadata": {
    "code_folding": [
     0
    ],
    "collapsed": false
   },
   "outputs": [],
   "source": [
    "def run_file(sequence):\n",
    "    # dictionary to reverse transcribe sequences\n",
    "    rev_xcr = {'a':'t', 'c':'g', 'g':'c', 't':'a'}\n",
    "\n",
    "    write_Excel(split_dataframes(match(clean_sequence(sequence))))\n",
    "    return df"
   ]
  },
  {
   "cell_type": "code",
   "execution_count": 18,
   "metadata": {
    "collapsed": false,
    "scrolled": true
   },
   "outputs": [
    {
     "name": "stdout",
     "output_type": "stream",
     "text": [
      "For sequence attcgcc...aagaagg there are 10 matching forward primers and 0 matching reverse primers.\n",
      "\n"
     ]
    }
   ],
   "source": [
    "df = run_file(sequence)"
   ]
  }
 ],
 "metadata": {
  "anaconda-cloud": {},
  "kernelspec": {
   "display_name": "Python [Root]",
   "language": "python",
   "name": "Python [Root]"
  },
  "language_info": {
   "codemirror_mode": {
    "name": "ipython",
    "version": 3
   },
   "file_extension": ".py",
   "mimetype": "text/x-python",
   "name": "python",
   "nbconvert_exporter": "python",
   "pygments_lexer": "ipython3",
   "version": "3.5.2"
  }
 },
 "nbformat": 4,
 "nbformat_minor": 0
}
